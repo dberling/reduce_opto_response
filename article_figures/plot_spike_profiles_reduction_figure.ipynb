{
 "cells": [
  {
   "cell_type": "code",
   "execution_count": 1,
   "id": "fddd4333-fd03-43b8-acf0-767cd4726b5d",
   "metadata": {},
   "outputs": [],
   "source": [
    "import os\n",
    "os.chdir('/home/berling/reduce_opto_response/')\n",
    "import numpy as np\n",
    "\n",
    "# global variabl setup\n",
    "neuron_model_name = \"L23_PC_cADpyr229_1\"\n",
    "adex_fit = '../snake_workflow/adex_models/fit_to_L23_PC_cADpyr229_1.nestml'\n",
    "ChR_soma_density=13e9\n",
    "ChR_distribution='uniform'\n",
    "stimulator_dict = dict(\n",
    "        diameter_um=50,\n",
    "        NA=0.1)\n",
    "temp_protocol=dict(\n",
    "    duration_ms=200,\n",
    "    delay_ms=1,\n",
    "    total_rec_time_ms=300,\n",
    "    interpol_dt_ms=1\n",
    ")\n",
    "interpol_dt_ms = temp_protocol['interpol_dt_ms']\n",
    "\n",
    "stim_intensity_mWPERmm2 = 0.09\n",
    "\n",
    "driving_conductance_nS = np.load('RON_cond_reduced_calculation.npy')\n",
    "driving_times_ms = np.arange(0, len(driving_conductance_nS))"
   ]
  },
  {
   "cell_type": "code",
   "execution_count": 2,
   "id": "a1fe5dbe-a65a-4e73-b363-7e84683e071c",
   "metadata": {},
   "outputs": [
    {
     "name": "stderr",
     "output_type": "stream",
     "text": [
      "Warning: no DISPLAY environment variable.\n",
      "--No graphics will be displayed.\n"
     ]
    },
    {
     "name": "stdout",
     "output_type": "stream",
     "text": [
      "\n",
      "              -- N E S T --\n",
      "  Copyright (C) 2004 The NEST Initiative\n",
      "\n",
      " Version: 3.6.0\n",
      " Built: Jan  9 2025 17:16:28\n",
      "\n",
      " This program is provided AS IS and comes with\n",
      " NO WARRANTY. See the file LICENSE for details.\n",
      "\n",
      " Problems or suggestions?\n",
      "   Visit https://www.nest-simulator.org\n",
      "\n",
      " Type 'nest.help()' to find out more about NEST.\n",
      "\n",
      "Ca_HVA: gbar_Ca_HVA_somatic = 374.0 uS/cm^2, e_Ca_HVA = 132.4579341637009 mV\n",
      "Ca_HVA: gbar_Ca_HVA_axonal = 306.0 uS/cm^2, e_Ca_HVA = 132.4579341637009 mV\n",
      "Ca_HVA: gbar_Ca_HVA_basal = None uS/cm^2, e_Ca_HVA = 132.4579341637009 mV\n",
      "Ca_HVA: gbar_Ca_HVA_apical = None uS/cm^2, e_Ca_HVA = 132.4579341637009 mV\n",
      "Ca_LVAst: gbar_Ca_LVAst_somatic = 778.0 uS/cm^2, e_Ca_LVAst = 132.4579341637009 mV\n",
      "Ca_LVAst: gbar_Ca_LVAst_axonal = 50.0 uS/cm^2, e_Ca_LVAst = 132.4579341637009 mV\n",
      "Ca_LVAst: gbar_Ca_LVAst_basal = None uS/cm^2, e_Ca_LVAst = 132.4579341637009 mV\n",
      "Ca_LVAst: gbar_Ca_LVAst_apical = None uS/cm^2, e_Ca_LVAst = 132.4579341637009 mV\n",
      "Ih: gbar_Ih_somatic = 80.0 uS/cm^2, e_Ih = -45.0 mV\n",
      "Ih: gbar_Ih_axonal = None uS/cm^2, e_Ih = -45.0 mV\n",
      "Ih: gbar_Ih_basal = 80.0 uS/cm^2, e_Ih = -45.0 mV\n",
      "Ih: gbar_Ih_apical = <function <lambda> at 0x710825c063e0> uS/cm^2, e_Ih = -45.0 mV\n",
      "Im: gbar_Im_somatic = None uS/cm^2, e_Im = -85.0 mV\n",
      "Im: gbar_Im_axonal = None uS/cm^2, e_Im = -85.0 mV\n",
      "Im: gbar_Im_basal = None uS/cm^2, e_Im = -85.0 mV\n",
      "Im: gbar_Im_apical = 740.0 uS/cm^2, e_Im = -85.0 mV\n",
      "K_Pst: gbar_K_Pst_somatic = None uS/cm^2, e_K_Pst = -85.0 mV\n",
      "K_Pst: gbar_K_Pst_axonal = 959296.0 uS/cm^2, e_K_Pst = -85.0 mV\n",
      "K_Pst: gbar_K_Pst_basal = None uS/cm^2, e_K_Pst = -85.0 mV\n",
      "K_Pst: gbar_K_Pst_apical = None uS/cm^2, e_K_Pst = -85.0 mV\n",
      "K_Tst: gbar_K_Tst_somatic = None uS/cm^2, e_K_Tst = -85.0 mV\n",
      "K_Tst: gbar_K_Tst_axonal = 1035.0 uS/cm^2, e_K_Tst = -85.0 mV\n",
      "K_Tst: gbar_K_Tst_basal = None uS/cm^2, e_K_Tst = -85.0 mV\n",
      "K_Tst: gbar_K_Tst_apical = None uS/cm^2, e_K_Tst = -85.0 mV\n",
      "NaTa_t: gbar_NaTa_t_somatic = None uS/cm^2, e_NaTa_t = 50.0 mV\n",
      "NaTa_t: gbar_NaTa_t_axonal = 3429725.0 uS/cm^2, e_NaTa_t = 50.0 mV\n",
      "NaTa_t: gbar_NaTa_t_basal = None uS/cm^2, e_NaTa_t = 50.0 mV\n",
      "NaTa_t: gbar_NaTa_t_apical = None uS/cm^2, e_NaTa_t = 50.0 mV\n",
      "NaTs2_t: gbar_NaTs2_t_somatic = 926705.0 uS/cm^2, e_NaTs2_t = 50.0 mV\n",
      "NaTs2_t: gbar_NaTs2_t_axonal = None uS/cm^2, e_NaTs2_t = 50.0 mV\n",
      "NaTs2_t: gbar_NaTs2_t_basal = None uS/cm^2, e_NaTs2_t = 50.0 mV\n",
      "NaTs2_t: gbar_NaTs2_t_apical = 12009.0 uS/cm^2, e_NaTs2_t = 50.0 mV\n",
      "Nap_Et2: gbar_Nap_Et2_somatic = None uS/cm^2, e_Nap_Et2 = 50.0 mV\n",
      "Nap_Et2: gbar_Nap_Et2_axonal = 9803.0 uS/cm^2, e_Nap_Et2 = 50.0 mV\n",
      "Nap_Et2: gbar_Nap_Et2_basal = None uS/cm^2, e_Nap_Et2 = 50.0 mV\n",
      "Nap_Et2: gbar_Nap_Et2_apical = None uS/cm^2, e_Nap_Et2 = 50.0 mV\n",
      "SK_E2: gbar_SK_E2_somatic = 99433.0 uS/cm^2, e_SK_E2 = -85.0 mV\n",
      "SK_E2: gbar_SK_E2_axonal = 8085.0 uS/cm^2, e_SK_E2 = -85.0 mV\n",
      "SK_E2: gbar_SK_E2_basal = None uS/cm^2, e_SK_E2 = -85.0 mV\n",
      "SK_E2: gbar_SK_E2_apical = None uS/cm^2, e_SK_E2 = -85.0 mV\n",
      "SKv3_1: gbar_SKv3_1_somatic = 102517.0 uS/cm^2, e_SKv3_1 = -85.0 mV\n",
      "SKv3_1: gbar_SKv3_1_axonal = 94971.0 uS/cm^2, e_SKv3_1 = -85.0 mV\n",
      "SKv3_1: gbar_SKv3_1_basal = None uS/cm^2, e_SKv3_1 = -85.0 mV\n",
      "SKv3_1: gbar_SKv3_1_apical = 513.0 uS/cm^2, e_SKv3_1 = -85.0 mV\n",
      "423.3559875488281\n",
      "Set depth to 423.3559875488281 um to accommodate apical dendrite. This is 33.355987548828125 deeper than mean depth of layer.\n"
     ]
    }
   ],
   "source": [
    "# Run full simulation\n",
    "from neurostim.analysis import quick_sim_setup\n",
    "from neurostim.cell import Cell\n",
    "from neurostim import models\n",
    "import numpy as np\n",
    "import pandas as pd\n",
    "from neuron import h\n",
    "from scipy.signal import find_peaks\n",
    "\n",
    "simcontrol = quick_sim_setup(\n",
    "    cell_dict = dict(\n",
    "        cellmodel=neuron_model_name,\n",
    "        ChR_soma_density=ChR_soma_density,\n",
    "        ChR_distribution=ChR_distribution),\n",
    "    stimulator_dict = stimulator_dict\n",
    ")\n",
    "\n",
    "# Define recording variables\n",
    "rec_vars = [[],[]]\n",
    "# append time and soma voltage recoding\n",
    "rec_vars[0].append('time [ms]')\n",
    "rec_vars[1].append(h._ref_t)\n",
    "rec_vars[0].append('v_soma_mV')\n",
    "rec_vars[1].append(simcontrol.cell.model.soma_sec(0.5)._ref_v)\n",
    "\n",
    "tmp = simcontrol.run(\n",
    "    temp_protocol=temp_protocol,\n",
    "    stim_location=(0, 0, 0),\n",
    "    stim_intensity_mWPERmm2=stim_intensity_mWPERmm2,\n",
    "    rec_vars=rec_vars,\n",
    "    interpol_dt_ms=interpol_dt_ms\n",
    ")\n",
    "# measure APC\n",
    "v_soma = tmp[['time [ms]', 'v_soma_mV']]\n",
    "v_soma_until_stim_period_stops = v_soma.loc[v_soma['time [ms]']<=temp_protocol['duration_ms']+temp_protocol['delay_ms']]\n",
    "x = tmp['time [ms]']\n",
    "y = tmp['v_soma_mV']\n",
    "peaks, properties = find_peaks(y, height=-20, prominence=10)\n",
    "spike_times = x[peaks]\n",
    "np.save('spike_times_full.npy', spike_times)"
   ]
  },
  {
   "cell_type": "code",
   "execution_count": null,
   "id": "44ada5df-9e1c-48e5-9d09-6255a8672fc4",
   "metadata": {},
   "outputs": [],
   "source": []
  },
  {
   "cell_type": "code",
   "execution_count": 2,
   "id": "b0936df4-18d1-44e8-b120-a26fb642417a",
   "metadata": {},
   "outputs": [
    {
     "name": "stderr",
     "output_type": "stream",
     "text": [
      "Warning: no DISPLAY environment variable.\n",
      "--No graphics will be displayed.\n"
     ]
    },
    {
     "name": "stdout",
     "output_type": "stream",
     "text": [
      "\n",
      "              -- N E S T --\n",
      "  Copyright (C) 2004 The NEST Initiative\n",
      "\n",
      " Version: 3.6.0\n",
      " Built: Jan  9 2025 17:16:28\n",
      "\n",
      " This program is provided AS IS and comes with\n",
      " NO WARRANTY. See the file LICENSE for details.\n",
      "\n",
      " Problems or suggestions?\n",
      "   Visit https://www.nest-simulator.org\n",
      "\n",
      " Type 'nest.help()' to find out more about NEST.\n",
      "\n",
      "Ca_HVA: gbar_Ca_HVA_somatic = 374.0 uS/cm^2, e_Ca_HVA = 132.4579341637009 mV\n",
      "Ca_HVA: gbar_Ca_HVA_axonal = 306.0 uS/cm^2, e_Ca_HVA = 132.4579341637009 mV\n",
      "Ca_HVA: gbar_Ca_HVA_basal = None uS/cm^2, e_Ca_HVA = 132.4579341637009 mV\n",
      "Ca_HVA: gbar_Ca_HVA_apical = None uS/cm^2, e_Ca_HVA = 132.4579341637009 mV\n",
      "Ca_LVAst: gbar_Ca_LVAst_somatic = 778.0 uS/cm^2, e_Ca_LVAst = 132.4579341637009 mV\n",
      "Ca_LVAst: gbar_Ca_LVAst_axonal = 50.0 uS/cm^2, e_Ca_LVAst = 132.4579341637009 mV\n",
      "Ca_LVAst: gbar_Ca_LVAst_basal = None uS/cm^2, e_Ca_LVAst = 132.4579341637009 mV\n",
      "Ca_LVAst: gbar_Ca_LVAst_apical = None uS/cm^2, e_Ca_LVAst = 132.4579341637009 mV\n",
      "Ih: gbar_Ih_somatic = 80.0 uS/cm^2, e_Ih = -45.0 mV\n",
      "Ih: gbar_Ih_axonal = None uS/cm^2, e_Ih = -45.0 mV\n",
      "Ih: gbar_Ih_basal = 80.0 uS/cm^2, e_Ih = -45.0 mV\n",
      "Ih: gbar_Ih_apical = <function <lambda> at 0x7262c232a3e0> uS/cm^2, e_Ih = -45.0 mV\n",
      "Im: gbar_Im_somatic = None uS/cm^2, e_Im = -85.0 mV\n",
      "Im: gbar_Im_axonal = None uS/cm^2, e_Im = -85.0 mV\n",
      "Im: gbar_Im_basal = None uS/cm^2, e_Im = -85.0 mV\n",
      "Im: gbar_Im_apical = 740.0 uS/cm^2, e_Im = -85.0 mV\n",
      "K_Pst: gbar_K_Pst_somatic = None uS/cm^2, e_K_Pst = -85.0 mV\n",
      "K_Pst: gbar_K_Pst_axonal = 959296.0 uS/cm^2, e_K_Pst = -85.0 mV\n",
      "K_Pst: gbar_K_Pst_basal = None uS/cm^2, e_K_Pst = -85.0 mV\n",
      "K_Pst: gbar_K_Pst_apical = None uS/cm^2, e_K_Pst = -85.0 mV\n",
      "K_Tst: gbar_K_Tst_somatic = None uS/cm^2, e_K_Tst = -85.0 mV\n",
      "K_Tst: gbar_K_Tst_axonal = 1035.0 uS/cm^2, e_K_Tst = -85.0 mV\n",
      "K_Tst: gbar_K_Tst_basal = None uS/cm^2, e_K_Tst = -85.0 mV\n",
      "K_Tst: gbar_K_Tst_apical = None uS/cm^2, e_K_Tst = -85.0 mV\n",
      "NaTa_t: gbar_NaTa_t_somatic = None uS/cm^2, e_NaTa_t = 50.0 mV\n",
      "NaTa_t: gbar_NaTa_t_axonal = 3429725.0 uS/cm^2, e_NaTa_t = 50.0 mV\n",
      "NaTa_t: gbar_NaTa_t_basal = None uS/cm^2, e_NaTa_t = 50.0 mV\n",
      "NaTa_t: gbar_NaTa_t_apical = None uS/cm^2, e_NaTa_t = 50.0 mV\n",
      "NaTs2_t: gbar_NaTs2_t_somatic = 926705.0 uS/cm^2, e_NaTs2_t = 50.0 mV\n",
      "NaTs2_t: gbar_NaTs2_t_axonal = None uS/cm^2, e_NaTs2_t = 50.0 mV\n",
      "NaTs2_t: gbar_NaTs2_t_basal = None uS/cm^2, e_NaTs2_t = 50.0 mV\n",
      "NaTs2_t: gbar_NaTs2_t_apical = 12009.0 uS/cm^2, e_NaTs2_t = 50.0 mV\n",
      "Nap_Et2: gbar_Nap_Et2_somatic = None uS/cm^2, e_Nap_Et2 = 50.0 mV\n",
      "Nap_Et2: gbar_Nap_Et2_axonal = 9803.0 uS/cm^2, e_Nap_Et2 = 50.0 mV\n",
      "Nap_Et2: gbar_Nap_Et2_basal = None uS/cm^2, e_Nap_Et2 = 50.0 mV\n",
      "Nap_Et2: gbar_Nap_Et2_apical = None uS/cm^2, e_Nap_Et2 = 50.0 mV\n",
      "SK_E2: gbar_SK_E2_somatic = 99433.0 uS/cm^2, e_SK_E2 = -85.0 mV\n",
      "SK_E2: gbar_SK_E2_axonal = 8085.0 uS/cm^2, e_SK_E2 = -85.0 mV\n",
      "SK_E2: gbar_SK_E2_basal = None uS/cm^2, e_SK_E2 = -85.0 mV\n",
      "SK_E2: gbar_SK_E2_apical = None uS/cm^2, e_SK_E2 = -85.0 mV\n",
      "SKv3_1: gbar_SKv3_1_somatic = 102517.0 uS/cm^2, e_SKv3_1 = -85.0 mV\n",
      "SKv3_1: gbar_SKv3_1_axonal = 94971.0 uS/cm^2, e_SKv3_1 = -85.0 mV\n",
      "SKv3_1: gbar_SKv3_1_basal = None uS/cm^2, e_SKv3_1 = -85.0 mV\n",
      "SKv3_1: gbar_SKv3_1_apical = 513.0 uS/cm^2, e_SKv3_1 = -85.0 mV\n",
      "423.3559875488281\n",
      "Set depth to 423.3559875488281 um to accommodate apical dendrite. This is 33.355987548828125 deeper than mean depth of layer.\n"
     ]
    }
   ],
   "source": [
    "# Run somatic-equivalent conductance at soma of HH-model\n",
    "from neurostim.analysis import quick_sim_setup\n",
    "from neurostim.cell import Cell\n",
    "from neurostim import models\n",
    "import numpy as np\n",
    "import pandas as pd\n",
    "from neuron import h\n",
    "from scipy.signal import find_peaks\n",
    "\n",
    "time_ms = driving_times_ms\n",
    "# set up neuron model\n",
    "cellmodel = getattr(models, neuron_model_name)\n",
    "cell = Cell(\n",
    "    model=cellmodel(),\n",
    "    ChR_soma_density=13e9,\n",
    "    ChR_distribution='uniform'\n",
    ")\n",
    "# insert new conductance to 'inject' conductance\n",
    "soma = cell.sections[0]\n",
    "soma.insert('g_chanrhod')\n",
    "\n",
    "# define/load driving stimulus\n",
    "conductance_nS = driving_conductance_nS\n",
    "\n",
    "# driving stimulus\n",
    "t = h.Vector(time_ms)\n",
    "y = h.Vector(conductance_nS*(100/soma(0.5).area())) # needs to be rescaled as gcat is density mechanism\n",
    "\n",
    "# Define recording variables\n",
    "rec_vars = [[],[]]\n",
    "rec_time = h.Vector().record(h._ref_t)\n",
    "rec_v = h.Vector().record(soma(0.5)._ref_v)\n",
    "\n",
    "# run simulation with injected conductance\n",
    "h.load_file('stdrun.hoc')\n",
    "\n",
    "# play the stimulus into soma(0.5)'s ina\n",
    "# the last True means to interpolate; it's not the default, but unless\n",
    "# you know what you're doing, you probably want to pass True there\n",
    "y.play(soma(0.5)._ref_gcat2_g_chanrhod, t, True)\n",
    "\n",
    "# h.v_init, h.tstop= -70, temp_protocol['total_rec_time_ms']\n",
    "h.v_init, h.tstop= -70, 201\n",
    "h.run()\n",
    "\n",
    "# measure APC\n",
    "x = np.array(rec_time)\n",
    "y = np.array(rec_v)\n",
    "peaks, properties = find_peaks(y, height=-20, prominence=10)\n",
    "spike_times = x[peaks]\n",
    "np.save('spike_times_RON_full.npy', spike_times)"
   ]
  },
  {
   "cell_type": "code",
   "execution_count": null,
   "id": "17fa6775-948d-4bd9-b4e6-10ba091dbbcd",
   "metadata": {},
   "outputs": [],
   "source": []
  },
  {
   "cell_type": "code",
   "execution_count": null,
   "id": "71d3cef5-548f-4b12-b835-a642aafee99c",
   "metadata": {},
   "outputs": [],
   "source": [
    "# see python file: run_RON_adex_spike_profile.py"
   ]
  },
  {
   "cell_type": "code",
   "execution_count": 3,
   "id": "f0c394b4-480f-4bb4-af6d-19dfad68e5a7",
   "metadata": {},
   "outputs": [],
   "source": [
    "st_HH_full      = np.load('spike_times_full.npy')\n",
    "st_HH_reduced   = np.load('spike_times_RON_full.npy')\n",
    "st_AdEx_reduced = np.load('spike_times_RON_adex.npy')"
   ]
  },
  {
   "cell_type": "code",
   "execution_count": 4,
   "id": "9b441652-d24a-4495-b0f9-b277b03ee949",
   "metadata": {},
   "outputs": [
    {
     "data": {
      "text/plain": [
       "<matplotlib.legend.Legend at 0x7262c0b14910>"
      ]
     },
     "execution_count": 4,
     "metadata": {},
     "output_type": "execute_result"
    },
    {
     "data": {
      "image/png": "[encoded data removed]",
      "text/plain": [
       "<Figure size 640x480 with 1 Axes>"
      ]
     },
     "metadata": {},
     "output_type": "display_data"
    }
   ],
   "source": [
    "import matplotlib.pyplot as plt\n",
    "plt.vlines(st_HH_full, ymin=0, ymax=1, label='full', color='black') \n",
    "plt.vlines(st_HH_reduced, ymin=1, ymax=2, label='HH red.', color='blue')\n",
    "plt.vlines(st_AdEx_reduced, ymin=2, ymax=3, label='AdEx red.', color='purple')\n",
    "plt.ylim(-0., 3.)\n",
    "plt.xlabel('time ms')\n",
    "plt.legend()"
   ]
  },
  {
   "cell_type": "code",
   "execution_count": 5,
   "id": "c78beb8c-bb15-42f9-93ac-298df46b224d",
   "metadata": {},
   "outputs": [
    {
     "data": {
      "text/plain": [
       "array([], dtype=float64)"
      ]
     },
     "execution_count": 5,
     "metadata": {},
     "output_type": "execute_result"
    }
   ],
   "source": [
    "st_HH_full"
   ]
  }
 ],
 "metadata": {
  "kernelspec": {
   "display_name": "Python 3 (ipykernel)",
   "language": "python",
   "name": "python3"
  },
  "language_info": {
   "codemirror_mode": {
    "name": "ipython",
    "version": 3
   },
   "file_extension": ".py",
   "mimetype": "text/x-python",
   "name": "python",
   "nbconvert_exporter": "python",
   "pygments_lexer": "ipython3",
   "version": "3.11.9"
  }
 },
 "nbformat": 4,
 "nbformat_minor": 5
}
